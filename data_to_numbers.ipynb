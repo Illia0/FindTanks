{
 "cells": [
  {
   "cell_type": "code",
   "execution_count": 18,
   "id": "0b70f5cd",
   "metadata": {},
   "outputs": [],
   "source": [
    "import os\n",
    "import glob\n",
    "import random"
   ]
  },
  {
   "cell_type": "code",
   "execution_count": 19,
   "id": "d521490e",
   "metadata": {},
   "outputs": [],
   "source": [
    "images_dir_from = \"D:/Tanks/Mask-RCNN-TF2-master/dataset/test\""
   ]
  },
  {
   "cell_type": "code",
   "execution_count": 20,
   "id": "2425086e",
   "metadata": {},
   "outputs": [],
   "source": [
    "images_dir_to = \"D:/Tanks\\Mask-RCNN-TF2-master/dataset/rename_test_photo\""
   ]
  },
  {
   "cell_type": "code",
   "execution_count": 21,
   "id": "951ea1d3",
   "metadata": {},
   "outputs": [],
   "source": [
    "imagepath_list = glob.glob(os.path.join(images_dir_from, '*.jpg'))"
   ]
  },
  {
   "cell_type": "code",
   "execution_count": 22,
   "id": "2e7a996f",
   "metadata": {
    "scrolled": true
   },
   "outputs": [
    {
     "data": {
      "text/plain": [
       "'D:/Tanks/Mask-RCNN-TF2-master/dataset/test\\\\100_jpg.rf.f4e9a0f7d555b511e28cac6e53c2b03f.jpg'"
      ]
     },
     "execution_count": 22,
     "metadata": {},
     "output_type": "execute_result"
    }
   ],
   "source": [
    "imagepath_list[1]"
   ]
  },
  {
   "cell_type": "code",
   "execution_count": 23,
   "id": "e7fc09d4",
   "metadata": {},
   "outputs": [],
   "source": [
    "random.Random(42).shuffle(imagepath_list)"
   ]
  },
  {
   "cell_type": "code",
   "execution_count": 24,
   "id": "65dd5275",
   "metadata": {},
   "outputs": [],
   "source": [
    "padding = len(str(len(imagepath_list)))"
   ]
  },
  {
   "cell_type": "code",
   "execution_count": 25,
   "id": "c0bbc858",
   "metadata": {},
   "outputs": [
    {
     "data": {
      "text/plain": [
       "3"
      ]
     },
     "execution_count": 25,
     "metadata": {},
     "output_type": "execute_result"
    }
   ],
   "source": [
    "padding"
   ]
  },
  {
   "cell_type": "code",
   "execution_count": 26,
   "id": "134b95ae",
   "metadata": {},
   "outputs": [],
   "source": [
    "for n,filepath in enumerate(imagepath_list, 1):\n",
    "    os.rename(filepath, os.path.join(images_dir_to, '{:>0{}}.jpg'.format(n,padding)))"
   ]
  },
  {
   "cell_type": "code",
   "execution_count": 27,
   "id": "c652b63e",
   "metadata": {},
   "outputs": [],
   "source": [
    "#Теперь перевод данных xml"
   ]
  },
  {
   "cell_type": "code",
   "execution_count": 28,
   "id": "2910be86",
   "metadata": {},
   "outputs": [],
   "source": [
    "data_dir_from = \"D:/Tanks/Mask-RCNN-TF2-master/dataset/test\""
   ]
  },
  {
   "cell_type": "code",
   "execution_count": 29,
   "id": "5656e479",
   "metadata": {},
   "outputs": [],
   "source": [
    "data_dir_to = \"D:/Tanks\\Mask-RCNN-TF2-master/dataset/rename_test_data\""
   ]
  },
  {
   "cell_type": "code",
   "execution_count": 30,
   "id": "a1cde54b",
   "metadata": {},
   "outputs": [],
   "source": [
    "datapath_list = glob.glob(os.path.join(data_dir_from, '*.Xml'))"
   ]
  },
  {
   "cell_type": "code",
   "execution_count": 31,
   "id": "ee2c3f4e",
   "metadata": {},
   "outputs": [
    {
     "data": {
      "text/plain": [
       "'D:/Tanks/Mask-RCNN-TF2-master/dataset/test\\\\100_jpg.rf.f4e9a0f7d555b511e28cac6e53c2b03f.xml'"
      ]
     },
     "execution_count": 31,
     "metadata": {},
     "output_type": "execute_result"
    }
   ],
   "source": [
    "datapath_list[1]"
   ]
  },
  {
   "cell_type": "code",
   "execution_count": 32,
   "id": "eaefd9ef",
   "metadata": {},
   "outputs": [],
   "source": [
    "random.Random(42).shuffle(datapath_list)"
   ]
  },
  {
   "cell_type": "code",
   "execution_count": 33,
   "id": "52623cd5",
   "metadata": {},
   "outputs": [],
   "source": [
    "padding = len(str(len(datapath_list)))"
   ]
  },
  {
   "cell_type": "code",
   "execution_count": 34,
   "id": "36de003b",
   "metadata": {},
   "outputs": [],
   "source": [
    "for n,filepath in enumerate(datapath_list, 1):\n",
    "    os.rename(filepath, os.path.join(data_dir_to, '{:>0{}}.Xml'.format(n,padding)))"
   ]
  },
  {
   "cell_type": "code",
   "execution_count": null,
   "id": "5c1f8920",
   "metadata": {},
   "outputs": [],
   "source": []
  },
  {
   "cell_type": "code",
   "execution_count": null,
   "id": "f21aae9b",
   "metadata": {},
   "outputs": [],
   "source": []
  },
  {
   "cell_type": "code",
   "execution_count": null,
   "id": "e097a382",
   "metadata": {},
   "outputs": [],
   "source": []
  },
  {
   "cell_type": "code",
   "execution_count": null,
   "id": "578e14cc",
   "metadata": {},
   "outputs": [],
   "source": []
  }
 ],
 "metadata": {
  "kernelspec": {
   "display_name": "Python 3 (ipykernel)",
   "language": "python",
   "name": "python3"
  },
  "language_info": {
   "codemirror_mode": {
    "name": "ipython",
    "version": 3
   },
   "file_extension": ".py",
   "mimetype": "text/x-python",
   "name": "python",
   "nbconvert_exporter": "python",
   "pygments_lexer": "ipython3",
   "version": "3.7.9"
  }
 },
 "nbformat": 4,
 "nbformat_minor": 5
}
